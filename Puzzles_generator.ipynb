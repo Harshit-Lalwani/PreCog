{
 "cells": [
  {
   "cell_type": "code",
   "execution_count": 35,
   "metadata": {},
   "outputs": [],
   "source": [
    "import numpy as np\n",
    "import pickle\n",
    "import random\n",
    "import networkx as nx\n",
    "import matplotlib.pyplot as plt\n"
   ]
  },
  {
   "cell_type": "code",
   "execution_count": 36,
   "metadata": {},
   "outputs": [],
   "source": [
    "# Function to sample a Gaussian n in the range [1, M]\n",
    "M = 10\n",
    "def sample_gaussian_n(mean=M/2, std_dev=2, min_n=1, max_n=M):\n",
    "    n = int(np.clip(np.random.normal(mean, std_dev), min_n, max_n))\n",
    "    return n"
   ]
  },
  {
   "cell_type": "code",
   "execution_count": 37,
   "metadata": {},
   "outputs": [],
   "source": [
    "# Function to load the flat dataset\n",
    "def load_flat_dataset(file_path='NISdb_flat.pkl'):\n",
    "    with open(file_path, 'rb') as f:\n",
    "        flat_dataset = pickle.load(f)\n",
    "    return flat_dataset"
   ]
  },
  {
   "cell_type": "code",
   "execution_count": 38,
   "metadata": {},
   "outputs": [],
   "source": [
    "# Function to Sample a random string of size n from NISdb_flat\n",
    "def sample_random_string(n, file_path='NISdb_flat.pkl'):\n",
    "    flat_dataset = load_flat_dataset(file_path)\n",
    "    \n",
    "    if n not in flat_dataset or not flat_dataset[n]:\n",
    "        raise ValueError(f\"No strings of length {n} found in the dataset.\")\n",
    "    \n",
    "    return random.choice(flat_dataset[n])"
   ]
  },
  {
   "cell_type": "markdown",
   "metadata": {},
   "source": [
    "Sample two numbers (exponental) between 1 to min(2n,M) p and q, sample strings of size p and q from NISdb_flat"
   ]
  },
  {
   "cell_type": "code",
   "execution_count": 84,
   "metadata": {},
   "outputs": [],
   "source": [
    "# Function to create transitions\n",
    "def create_transition(n, file_path='NISdb_flat.pkl'):\n",
    "    Max_size = min(2*n, M)\n",
    "    while True:\n",
    "        p = int(np.clip(np.random.exponential(scale=n), 1, Max_size))\n",
    "        q = int(np.clip(np.random.exponential(scale=n), 1, Max_size))\n",
    "        \n",
    "        s1 = sample_random_string(p, file_path)\n",
    "        s2 = sample_random_string(q, file_path)\n",
    "        \n",
    "        if s1 != s2:\n",
    "            break\n",
    "        \n",
    "    \n",
    "    return [s1, s2]"
   ]
  },
  {
   "cell_type": "code",
   "execution_count": 40,
   "metadata": {},
   "outputs": [],
   "source": [
    "# Transitions are arrays of size 2 of strings\n",
    "# Function to create an array of transitions of size t for a given n\n",
    "def create_transitions_array(n, t, file_path='NISdb_flat.pkl'):\n",
    "    transitions = []\n",
    "    for _ in range(t):\n",
    "        transitions.append(create_transition(n, file_path))\n",
    "    return transitions"
   ]
  },
  {
   "cell_type": "code",
   "execution_count": 41,
   "metadata": {},
   "outputs": [],
   "source": [
    "# To apply a transition [s1, s2] to a string s, we find the first occurrence of s1 in s and replace it with s2:\n",
    "\n",
    "# Function to apply a transition [s1, s2] to a string s\n",
    "def apply_transition(s, transition):\n",
    "    s1, s2 = transition\n",
    "    if s1 not in s:\n",
    "        return None\n",
    "    return s.replace(s1, s2, 1)"
   ]
  },
  {
   "cell_type": "markdown",
   "metadata": {},
   "source": [
    "Graph generator\n",
    "1. Sample n\n",
    "2. Create t transitions (t =5) \n",
    "3. Create a graph with root node as a string of size n and t transitions upto depth d"
   ]
  },
  {
   "cell_type": "code",
   "execution_count": 80,
   "metadata": {},
   "outputs": [],
   "source": [
    "# Graph generator function\n",
    "def generate_graph(n=None, t=3, d=3, file_path='NISdb_flat.pkl'):\n",
    "    if n is None:\n",
    "        n = sample_gaussian_n()\n",
    "    root = sample_random_string(n, file_path)\n",
    "    print(f\"Random string of length {n}: {root}\")\n",
    "    transitions = create_transitions_array(n, t, file_path)\n",
    "    print(f\"Transitions array: {transitions}\")\n",
    "    \n",
    "    G = nx.DiGraph()\n",
    "    G.add_node((-1, -1, -1), string=root)\n",
    "    current_level = [((-1, -1, -1), root)]\n",
    "    \n",
    "    for depth in range(d):\n",
    "        next_level = []\n",
    "        for node, node_string in current_level:\n",
    "            for i, transition in enumerate(transitions):\n",
    "                new_node_string = apply_transition(node_string, transition)\n",
    "                if new_node_string is not None:\n",
    "                    new_node = tuple(list(node[:depth]) + [i] + [-1] * (2 - depth))\n",
    "                    G.add_node(new_node, string=new_node_string)\n",
    "                    G.add_edge(node, new_node, label=f\"{transition[0]} -> {transition[1]}\")\n",
    "                    next_level.append((new_node, new_node_string))\n",
    "        current_level = next_level\n",
    "    \n",
    "    return G"
   ]
  },
  {
   "cell_type": "code",
   "execution_count": 81,
   "metadata": {},
   "outputs": [],
   "source": [
    "# Function to plot the graph\n",
    "def plot_graph(G):\n",
    "    pos = nx.shell_layout(G)\n",
    "    plt.figure(figsize=(12, 8))\n",
    "    nx.draw(G, pos, with_labels=True, labels=nx.get_node_attributes(G, 'string'), node_size=3000, node_color=\"skyblue\", font_size=10, font_weight=\"bold\", arrows=True)\n",
    "    \n",
    "    edge_labels = nx.get_edge_attributes(G, 'label')\n",
    "    nx.draw_networkx_edge_labels(G, pos, edge_labels=edge_labels, font_color='red')\n",
    "    \n",
    "    plt.show()"
   ]
  },
  {
   "cell_type": "code",
   "execution_count": null,
   "metadata": {},
   "outputs": [],
   "source": [
    "# # Example usage\n",
    "# if __name__ == \"__main__\":    \n",
    "#     n = None  \n",
    "#     graph = generate_graph(n,3,5)\n",
    "#     print(f\"Generated graph: {graph}\")\n",
    "    \n",
    "#     plot_graph(graph)"
   ]
  },
  {
   "cell_type": "markdown",
   "metadata": {},
   "source": [
    "Rather than generating a graph, now we shall directly generate a puzzle "
   ]
  },
  {
   "cell_type": "code",
   "execution_count": null,
   "metadata": {},
   "outputs": [],
   "source": [
    "# Function to generate puzzle"
   ]
  }
 ],
 "metadata": {
  "kernelspec": {
   "display_name": "Python 3",
   "language": "python",
   "name": "python3"
  },
  "language_info": {
   "codemirror_mode": {
    "name": "ipython",
    "version": 3
   },
   "file_extension": ".py",
   "mimetype": "text/x-python",
   "name": "python",
   "nbconvert_exporter": "python",
   "pygments_lexer": "ipython3",
   "version": "3.10.12"
  }
 },
 "nbformat": 4,
 "nbformat_minor": 2
}
