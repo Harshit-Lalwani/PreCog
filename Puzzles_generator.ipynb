{
 "cells": [
  {
   "cell_type": "markdown",
   "metadata": {},
   "source": [
    "## Code to generate puzzles"
   ]
  },
  {
   "cell_type": "code",
   "execution_count": 4,
   "metadata": {},
   "outputs": [],
   "source": [
    "import numpy as np\n",
    "import pickle\n",
    "import random\n",
    "import networkx as nx\n",
    "import matplotlib.pyplot as plt\n",
    "import os\n",
    "import json"
   ]
  },
  {
   "cell_type": "markdown",
   "metadata": {},
   "source": [
    "Function to sample a Gaussian n in the range [1, M]"
   ]
  },
  {
   "cell_type": "code",
   "execution_count": 5,
   "metadata": {},
   "outputs": [],
   "source": [
    "# Function to sample a Gaussian n in the range [1, M]\n",
    "M = 10\n",
    "def sample_gaussian_n(mean=M/2, std_dev=2, min_n=1, max_n=M):\n",
    "    n = int(np.clip(np.random.normal(mean, std_dev), min_n, max_n))\n",
    "    return n"
   ]
  },
  {
   "cell_type": "markdown",
   "metadata": {},
   "source": [
    "Function to load the flat dataset"
   ]
  },
  {
   "cell_type": "code",
   "execution_count": 6,
   "metadata": {},
   "outputs": [],
   "source": [
    "# Function to load the flat dataset\n",
    "def load_flat_dataset(file_path='data/NIS/NISdb_flat.pkl'):\n",
    "    with open(file_path, 'rb') as f:\n",
    "        flat_dataset = pickle.load(f)\n",
    "    return flat_dataset"
   ]
  },
  {
   "cell_type": "markdown",
   "metadata": {},
   "source": [
    "Function to Sample a random string of size n from NISdb_flat"
   ]
  },
  {
   "cell_type": "code",
   "execution_count": 7,
   "metadata": {},
   "outputs": [],
   "source": [
    "# Function to Sample a random string of size n from NISdb_flat\n",
    "def sample_random_string(n, file_path='data/NIS/NISdb_flat.pkl'):\n",
    "    flat_dataset = load_flat_dataset(file_path)\n",
    "    \n",
    "    if n not in flat_dataset or not flat_dataset[n]:\n",
    "        raise ValueError(f\"No strings of length {n} found in the dataset.\")\n",
    "    \n",
    "    return random.choice(flat_dataset[n])"
   ]
  },
  {
   "cell_type": "markdown",
   "metadata": {},
   "source": [
    "Function to create transitions\n",
    "\n",
    "Sample two numbers (exponental) between 1 to min(2n,M) p and q, sample strings of size p and q from NISdb_flat"
   ]
  },
  {
   "cell_type": "code",
   "execution_count": 8,
   "metadata": {},
   "outputs": [],
   "source": [
    "# Function to create transitions\n",
    "def create_transition(n, file_path='data/NIS/NISdb_flat.pkl'):\n",
    "    Max_size = min(2*n, M)\n",
    "    while True:\n",
    "        p = int(np.clip(np.random.exponential(scale=n), 1, Max_size))\n",
    "        q = int(np.clip(np.random.exponential(scale=n), 1, Max_size))\n",
    "        \n",
    "        s1 = sample_random_string(p, file_path)\n",
    "        s2 = sample_random_string(q, file_path)\n",
    "        \n",
    "        if s1 != s2:\n",
    "            break\n",
    "        \n",
    "    \n",
    "    return [s1, s2]"
   ]
  },
  {
   "cell_type": "markdown",
   "metadata": {},
   "source": [
    "Function to create an array of transitions of size t for a given n"
   ]
  },
  {
   "cell_type": "code",
   "execution_count": 9,
   "metadata": {},
   "outputs": [],
   "source": [
    "# Transitions are arrays of size 2 of strings\n",
    "# Function to create an array of transitions of size t for a given n\n",
    "def create_transitions_array(n, t, file_path='data/NIS/NISdb_flat.pkl'):\n",
    "    transitions = []\n",
    "    for _ in range(t):\n",
    "        transitions.append(create_transition(n, file_path))\n",
    "    return transitions"
   ]
  },
  {
   "cell_type": "markdown",
   "metadata": {},
   "source": [
    "Function to apply a transition [s1, s2] to a string s"
   ]
  },
  {
   "cell_type": "code",
   "execution_count": 10,
   "metadata": {},
   "outputs": [],
   "source": [
    "# To apply a transition [s1, s2] to a string s, we find the first occurrence of s1 in s and replace it with s2:\n",
    "\n",
    "# Function to apply a transition [s1, s2] to a string s\n",
    "def apply_transition(s, transition):\n",
    "    s1, s2 = transition\n",
    "    if s1 not in s:\n",
    "        return None\n",
    "    return s.replace(s1, s2, 1)"
   ]
  },
  {
   "cell_type": "markdown",
   "metadata": {},
   "source": [
    "Graph generator\n",
    "1. Sample n\n",
    "2. Create t transitions (t =5) \n",
    "3. Create a graph with root node as a string of size n and t transitions upto depth d"
   ]
  },
  {
   "cell_type": "markdown",
   "metadata": {},
   "source": [
    "Graph generator function"
   ]
  },
  {
   "cell_type": "code",
   "execution_count": 11,
   "metadata": {},
   "outputs": [],
   "source": [
    "# Graph generator function\n",
    "def generate_graph(n=None, t=3, d=3, file_path='data/NIS/NISdb_flat.pkl'):\n",
    "    if n is None:\n",
    "        n = sample_gaussian_n()\n",
    "    root = sample_random_string(n, file_path)\n",
    "    # print(f\"Random string of length {n}: {root}\")\n",
    "    transitions = create_transitions_array(n, t, file_path)\n",
    "    # print(f\"Transitions array: {transitions}\")\n",
    "    \n",
    "    G = nx.DiGraph()\n",
    "    G.add_node((-1, -1, -1), string=root)\n",
    "    current_level = [((-1, -1, -1), root)]\n",
    "    \n",
    "    for depth in range(d):\n",
    "        next_level = []\n",
    "        for node, node_string in current_level:\n",
    "            for i, transition in enumerate(transitions):\n",
    "                new_node_string = apply_transition(node_string, transition)\n",
    "                if new_node_string is not None:\n",
    "                    new_node = tuple(list(node[:depth]) + [i] + [-1] * (2 - depth))\n",
    "                    G.add_node(new_node, string=new_node_string)\n",
    "                    G.add_edge(node, new_node, label=f\"{transition[0]} -> {transition[1]}\")\n",
    "                    next_level.append((new_node, new_node_string))\n",
    "        current_level = next_level\n",
    "    \n",
    "    return G"
   ]
  },
  {
   "cell_type": "code",
   "execution_count": 12,
   "metadata": {},
   "outputs": [],
   "source": [
    "# Function to plot the graph\n",
    "def plot_graph(G):\n",
    "    pos = nx.shell_layout(G)\n",
    "    plt.figure(figsize=(12, 8))\n",
    "    nx.draw(G, pos, with_labels=True, labels=nx.get_node_attributes(G, 'string'), node_size=3000, node_color=\"skyblue\", font_size=10, font_weight=\"bold\", arrows=True)\n",
    "    \n",
    "    edge_labels = nx.get_edge_attributes(G, 'label')\n",
    "    nx.draw_networkx_edge_labels(G, pos, edge_labels=edge_labels, font_color='red')\n",
    "    \n",
    "    plt.show()"
   ]
  },
  {
   "cell_type": "code",
   "execution_count": 13,
   "metadata": {},
   "outputs": [],
   "source": [
    "# # Example usage\n",
    "# if __name__ == \"__main__\":    \n",
    "#     n = None  \n",
    "#     graph = generate_graph(n,3,5)\n",
    "#     print(f\"Generated graph: {graph}\")\n",
    "    \n",
    "#     plot_graph(graph)"
   ]
  },
  {
   "cell_type": "markdown",
   "metadata": {},
   "source": [
    "Rather than generating a graph, now we shall directly generate a puzzle "
   ]
  },
  {
   "cell_type": "markdown",
   "metadata": {},
   "source": [
    "Single Path generator function"
   ]
  },
  {
   "cell_type": "code",
   "execution_count": 14,
   "metadata": {},
   "outputs": [],
   "source": [
    "# Graph generator function to generate only one path\n",
    "def generate_single_path_graph(n=sample_gaussian_n(), t=3, d=3, file_path='data/NIS/NISdb_flat.pkl'):\n",
    "    root = sample_random_string(n, file_path)\n",
    "    print(f\"Random string of length {n}: {root}\")\n",
    "    \n",
    "    G = nx.DiGraph()\n",
    "    G.add_node((-1, -1, -1), string=root)\n",
    "    current_node = (-1, -1, -1)\n",
    "    current_string = root\n",
    "    successful_transitions = 0\n",
    "    attempts = 0\n",
    "    solution = []\n",
    "    \n",
    "    while successful_transitions < d:\n",
    "        if attempts >= 4 * d:\n",
    "            # Restart with a new string if too many attempts fail\n",
    "            root = sample_random_string(n, file_path)\n",
    "            print(f\"Restarting with new random string of length {n}: {root}\")\n",
    "            G = nx.DiGraph()\n",
    "            G.add_node((-1, -1, -1), string=root)\n",
    "            current_node = (-1, -1, -1)\n",
    "            current_string = root\n",
    "            successful_transitions = 0\n",
    "            attempts = 0\n",
    "            solution = []\n",
    "        \n",
    "        transitions = create_transitions_array(n, t, file_path)\n",
    "        transition = random.choice(transitions)\n",
    "        new_string = apply_transition(current_string, transition)\n",
    "        \n",
    "        if new_string is not None:\n",
    "            new_node = tuple(list(current_node[:successful_transitions]) + [transitions.index(transition)] + [-1] * (2 - successful_transitions))\n",
    "            G.add_node(new_node, string=new_string)\n",
    "            G.add_edge(current_node, new_node, label=f\"{transition[0]} -> {transition[1]}\")\n",
    "            current_node = new_node\n",
    "            current_string = new_string\n",
    "            successful_transitions += 1\n",
    "            solution.append(transitions.index(transition))\n",
    "        attempts += 1\n",
    "    \n",
    "    return G, solution"
   ]
  },
  {
   "cell_type": "code",
   "execution_count": 15,
   "metadata": {},
   "outputs": [],
   "source": [
    "# # Example usage\n",
    "# if __name__ == \"__main__\":\n",
    "#     graph = generate_single_path_graph()\n",
    "#     print(f\"Generated graph: {graph}\")\n",
    "    \n",
    "#     plot_graph(graph)"
   ]
  },
  {
   "cell_type": "code",
   "execution_count": 16,
   "metadata": {},
   "outputs": [],
   "source": [
    "# Function to count leaf nodes in a graph\n",
    "def count_leaf_nodes(G):\n",
    "    leaf_nodes = [node for node in G.nodes if G.out_degree(node) == 0]\n",
    "    return len(leaf_nodes)\n",
    "\n",
    "# Function to plot the frequency chart of leaf counts\n",
    "def plot_leaf_count_frequency(leaf_counts):\n",
    "    plt.figure(figsize=(10, 6))\n",
    "    plt.hist(leaf_counts, bins=range(min(leaf_counts), max(leaf_counts) + 1), edgecolor='black')\n",
    "    plt.title(f'Frequency of Leaf Counts in {len(leaf_counts)} Graphs')\n",
    "    plt.xlabel('Number of Leaf Nodes')\n",
    "    plt.ylabel('Frequency')\n",
    "    plt.show()\n",
    "\n",
    "\n",
    "# Function to generate <count> graphs, save them to files, and return the file names and leaf counts\n",
    "def generate_graphs(count=100):\n",
    "    file_names = []\n",
    "    leaf_counts = []\n",
    "    \n",
    "    for i in range(count):\n",
    "        G = generate_graph()\n",
    "        leaf_count = count_leaf_nodes(G)\n",
    "        leaf_counts.append(leaf_count)\n",
    "        \n",
    "        file_name = f'Graphs_{count}_{i}.pkl'\n",
    "        with open(file_name, 'wb') as f:\n",
    "            pickle.dump(G, f)\n",
    "        \n",
    "        file_names.append(file_name)\n",
    "        # print(f\"Graph {i+1}: {leaf_count} leaf nodes, saved to {file_name}\")\n",
    "    \n",
    "    return file_names, leaf_counts"
   ]
  },
  {
   "cell_type": "code",
   "execution_count": 17,
   "metadata": {},
   "outputs": [],
   "source": [
    "# # Example usage\n",
    "# if __name__ == \"__main__\":\n",
    "#     file_names, leaf_counts = generate_graphs()\n",
    "    \n",
    "#     # Calculate and print the average number of leaf nodes\n",
    "#     average_leaf_count = sum(leaf_counts) / len(leaf_counts)\n",
    "#     print(f\"Average number of leaf nodes: {average_leaf_count}\")\n",
    "    \n",
    "#     # Plot the frequency chart of leaf counts\n",
    "#     plot_leaf_count_frequency(leaf_counts)\n",
    "    \n",
    "#     # # Plot the first graph as an example\n",
    "#     # with open(file_names[0], 'rb') as f:\n",
    "#     #     first_graph = pickle.load(f)\n",
    "#     # plot_graph(first_graph)"
   ]
  },
  {
   "cell_type": "markdown",
   "metadata": {},
   "source": [
    "Should we keep t variable or fixed for a dataset"
   ]
  },
  {
   "cell_type": "code",
   "execution_count": 20,
   "metadata": {},
   "outputs": [],
   "source": [
    "# Function to generate puzzle instances\n",
    "\n",
    "def generate_single_puzzles_and_solutions(t=3, d=3, count=10):\n",
    "    puzzles = []\n",
    "    solutions = []\n",
    "    \n",
    "    for i in range(count):\n",
    "        G, solution = generate_single_path_graph(t=t, d=d)\n",
    "        puzzles.append(G)\n",
    "        solutions.append(solution)\n",
    "    \n",
    "    return puzzles, solutions"
   ]
  },
  {
   "cell_type": "markdown",
   "metadata": {},
   "source": [
    "issues\n",
    "1. directory name and files structure not working as intended\n",
    "2. More importantly, Puzzzle solutions are wrong: plot graph of puzzle and check\n"
   ]
  },
  {
   "cell_type": "markdown",
   "metadata": {},
   "source": [
    "Problem: Most solutions will have transition order 01234, must mix later"
   ]
  },
  {
   "cell_type": "markdown",
   "metadata": {},
   "source": []
  }
 ],
 "metadata": {
  "kernelspec": {
   "display_name": "Python 3",
   "language": "python",
   "name": "python3"
  },
  "language_info": {
   "codemirror_mode": {
    "name": "ipython",
    "version": 3
   },
   "file_extension": ".py",
   "mimetype": "text/x-python",
   "name": "python",
   "nbconvert_exporter": "python",
   "pygments_lexer": "ipython3",
   "version": "3.10.12"
  }
 },
 "nbformat": 4,
 "nbformat_minor": 2
}
