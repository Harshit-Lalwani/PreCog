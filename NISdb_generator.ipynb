{
 "cells": [
  {
   "cell_type": "markdown",
   "metadata": {},
   "source": [
    "# Generate set of non-isomorphic strings "
   ]
  },
  {
   "cell_type": "code",
   "execution_count": 44,
   "metadata": {},
   "outputs": [],
   "source": [
    "import string\n",
    "import pandas as pd\n",
    "from collections import defaultdict\n",
    "import pickle"
   ]
  },
  {
   "cell_type": "code",
   "execution_count": 45,
   "metadata": {},
   "outputs": [],
   "source": [
    "# Initialize the dataset and count table\n",
    "dataset = defaultdict(set)\n",
    "count_table = pd.DataFrame()\n",
    "flat_dataset = defaultdict(list)"
   ]
  },
  {
   "cell_type": "code",
   "execution_count": 46,
   "metadata": {},
   "outputs": [],
   "source": [
    "def generate_strings(n, k):\n",
    "    # Base cases\n",
    "    if n < k:\n",
    "        return set()\n",
    "    if k == 1:\n",
    "        return {\"a\" * n}\n",
    "    if n == k:\n",
    "        return {\"\".join(string.ascii_lowercase[:k])}\n",
    "    \n",
    "    # Check if the result is already in the dataset\n",
    "    if (n, k) in dataset:\n",
    "        return dataset[(n, k)]\n",
    "    \n",
    "    # Generate strings from S(n-1, k) and append any of the k letters\n",
    "    strings_n1_k = generate_strings(n-1, k)\n",
    "    for s in strings_n1_k:\n",
    "        for letter in string.ascii_lowercase[:k]:\n",
    "            dataset[(n, k)].add(s + letter)\n",
    "    \n",
    "    # Generate strings from S(n-1, k-1) and append the kth letter\n",
    "    strings_n1_k1 = generate_strings(n-1, k-1)\n",
    "    for s in strings_n1_k1:\n",
    "        dataset[(n, k)].add(s + string.ascii_lowercase[k-1])\n",
    "    \n",
    "    return dataset[(n, k)]"
   ]
  },
  {
   "cell_type": "code",
   "execution_count": 47,
   "metadata": {},
   "outputs": [],
   "source": [
    "def update_dataset(N):\n",
    "    for n in range(1, N + 1):\n",
    "        for k in range(1, n + 1):\n",
    "            strings = generate_strings(n, k)\n",
    "            flat_dataset[n].extend(strings)"
   ]
  },
  {
   "cell_type": "code",
   "execution_count": 48,
   "metadata": {},
   "outputs": [],
   "source": [
    "def update_count_table(N):\n",
    "    global count_table\n",
    "    count_table = pd.DataFrame(0, index=range(1, N + 1), columns=range(1, N + 1))\n",
    "    for n in range(1, N + 1):\n",
    "        for k in range(1, n + 1):\n",
    "            if k == 1:\n",
    "                count_table.at[n, k] = 1\n",
    "            elif n == k:\n",
    "                count_table.at[n, k] = 1\n",
    "            else:\n",
    "                count_table.at[n, k] = k * count_table.at[n-1, k] + count_table.at[n-1, k-1]\n"
   ]
  },
  {
   "cell_type": "code",
   "execution_count": 49,
   "metadata": {},
   "outputs": [],
   "source": [
    "# Run only to expand the dataset\n",
    "N = 10\n",
    "update_count_table(N)\n",
    "update_dataset(N)"
   ]
  },
  {
   "cell_type": "code",
   "execution_count": 50,
   "metadata": {},
   "outputs": [],
   "source": [
    "# # Print the count table for verification\n",
    "# print(\"Count Table:\")\n",
    "# print(count_table)\n",
    "\n",
    "# total_strings = count_table.sum().sum()\n",
    "# print(f\"Total number of strings up to ({N}, {N}): {total_strings}\")"
   ]
  },
  {
   "cell_type": "code",
   "execution_count": 51,
   "metadata": {},
   "outputs": [],
   "source": [
    "# Save the datasets to files\n",
    "with open('NISdb.pkl', 'wb') as f:\n",
    "    pickle.dump(dataset, f)\n",
    "with open('NISdb_flat.pkl', 'wb') as f:\n",
    "    pickle.dump(flat_dataset, f)\n",
    "    "
   ]
  },
  {
   "cell_type": "code",
   "execution_count": 52,
   "metadata": {},
   "outputs": [],
   "source": [
    "# # Verification\n",
    "# with open('NISdb.pkl', 'rb') as f:\n",
    "#     loaded_dataset = pickle.load(f)\n",
    "# with open('NISdb_flat.pkl', 'rb') as f:\n",
    "#     loaded_flat_dataset = pickle.load(f)\n",
    "# print(f\"Loaded dataset: {loaded_dataset}\")\n",
    "# print(f\"Loaded flat dataset: {loaded_flat_dataset}\")"
   ]
  },
  {
   "cell_type": "code",
   "execution_count": 53,
   "metadata": {},
   "outputs": [],
   "source": [
    "# # Example usage\n",
    "# Load the datasets from files\n",
    "# n = 4\n",
    "# k = 2\n",
    "# result = generate_strings(n, k)\n",
    "# print(f\"Strings of length {n} with {k} distinct letters: {result}\")\n",
    "\n"
   ]
  }
 ],
 "metadata": {
  "kernelspec": {
   "display_name": "Python 3",
   "language": "python",
   "name": "python3"
  },
  "language_info": {
   "codemirror_mode": {
    "name": "ipython",
    "version": 3
   },
   "file_extension": ".py",
   "mimetype": "text/x-python",
   "name": "python",
   "nbconvert_exporter": "python",
   "pygments_lexer": "ipython3",
   "version": "3.10.12"
  }
 },
 "nbformat": 4,
 "nbformat_minor": 2
}
